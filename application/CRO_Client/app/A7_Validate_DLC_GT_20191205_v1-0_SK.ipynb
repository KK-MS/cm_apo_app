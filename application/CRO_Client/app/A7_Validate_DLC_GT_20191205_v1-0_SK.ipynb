{
 "cells": [
  {
   "cell_type": "code",
   "execution_count": 1,
   "metadata": {},
   "outputs": [],
   "source": [
    "from ERGPY import *\n",
    "from matplotlib import pyplot as plt\n",
    "import pandas as pd"
   ]
  },
  {
   "cell_type": "markdown",
   "metadata": {},
   "source": [
    "# Import CarMaker Parameters"
   ]
  },
  {
   "cell_type": "code",
   "execution_count": 24,
   "metadata": {},
   "outputs": [],
   "source": [
    "ergpy = ERGPY()\n",
    "quantities = ergpy.parse('C:\\\\Users\\\\ll_stsekeid\\\\Desktop\\\\Basti_Projekt\\\\app\\\\KML2CRO_104613.erg')"
   ]
  },
  {
   "cell_type": "code",
   "execution_count": 25,
   "metadata": {},
   "outputs": [
    {
     "name": "stdout",
     "output_type": "stream",
     "text": [
      "Car.Distance\n",
      "Car.Road.GCS.Lat\n",
      "Car.Road.GCS.Long\n",
      "Time\n",
      "Car.Road.GCS.Elev\n",
      "Car.Road.Lane.Act.Width\n",
      "Car.Road.Path.DevDist\n",
      "$none$\n"
     ]
    }
   ],
   "source": [
    "for q in quantities:\n",
    "    print(q.name)"
   ]
  },
  {
   "cell_type": "code",
   "execution_count": 26,
   "metadata": {},
   "outputs": [],
   "source": [
    "CM_DLC = ergpy.getSingleQuantityValues('Car.Road.Path.DevDist')"
   ]
  },
  {
   "cell_type": "code",
   "execution_count": 37,
   "metadata": {},
   "outputs": [],
   "source": [
    "dfcm = pd.DataFrame()\n",
    "dfcm['cm_d2l'] = CM_DLC\n",
    "dfcm['lat'] = ergpy.getSingleQuantityValues('Car.Road.GCS.Lat')\n",
    "dfcm['lon'] = ergpy.getSingleQuantityValues('Car.Road.GCS.Long')\n"
   ]
  },
  {
   "cell_type": "code",
   "execution_count": 28,
   "metadata": {},
   "outputs": [
    {
     "data": {
      "text/plain": [
       "RangeIndex(start=0, stop=1748, step=1)"
      ]
     },
     "execution_count": 28,
     "metadata": {},
     "output_type": "execute_result"
    }
   ],
   "source": [
    "dfcm.index"
   ]
  },
  {
   "cell_type": "code",
   "execution_count": 29,
   "metadata": {},
   "outputs": [
    {
     "data": {
      "image/png": "[encoded data removed]",
      "text/plain": [
       "<Figure size 432x288 with 1 Axes>"
      ]
     },
     "metadata": {
      "needs_background": "light"
     },
     "output_type": "display_data"
    }
   ],
   "source": [
    "#Velocity 3.6 km/h & 1 Hz Frequenz\n",
    "%matplotlib inline\n",
    "plt.plot(dfcm.index,dfcm.cm_d2l)\n",
    "plt.ylim(-0.11,0.11)\n",
    "plt.show()"
   ]
  },
  {
   "cell_type": "code",
   "execution_count": 30,
   "metadata": {},
   "outputs": [
    {
     "data": {
      "text/plain": [
       "1748"
      ]
     },
     "execution_count": 30,
     "metadata": {},
     "output_type": "execute_result"
    }
   ],
   "source": [
    "len(CM_DLC)"
   ]
  },
  {
   "cell_type": "markdown",
   "metadata": {},
   "source": [
    "# Import GT Parametes"
   ]
  },
  {
   "cell_type": "code",
   "execution_count": 31,
   "metadata": {},
   "outputs": [
    {
     "data": {
      "text/html": [
       "<div>\n",
       "<style scoped>\n",
       "    .dataframe tbody tr th:only-of-type {\n",
       "        vertical-align: middle;\n",
       "    }\n",
       "\n",
       "    .dataframe tbody tr th {\n",
       "        vertical-align: top;\n",
       "    }\n",
       "\n",
       "    .dataframe thead th {\n",
       "        text-align: right;\n",
       "    }\n",
       "</style>\n",
       "<table border=\"1\" class=\"dataframe\">\n",
       "  <thead>\n",
       "    <tr style=\"text-align: right;\">\n",
       "      <th></th>\n",
       "      <th>Unnamed: 0</th>\n",
       "      <th>d2l</th>\n",
       "      <th>lon</th>\n",
       "      <th>lat</th>\n",
       "    </tr>\n",
       "  </thead>\n",
       "  <tbody>\n",
       "    <tr>\n",
       "      <th>0</th>\n",
       "      <td>0</td>\n",
       "      <td>-0.115950</td>\n",
       "      <td>10.303353</td>\n",
       "      <td>47.809265</td>\n",
       "    </tr>\n",
       "    <tr>\n",
       "      <th>1</th>\n",
       "      <td>1</td>\n",
       "      <td>-0.116035</td>\n",
       "      <td>10.303435</td>\n",
       "      <td>47.809193</td>\n",
       "    </tr>\n",
       "    <tr>\n",
       "      <th>2</th>\n",
       "      <td>2</td>\n",
       "      <td>-0.116089</td>\n",
       "      <td>10.303518</td>\n",
       "      <td>47.809121</td>\n",
       "    </tr>\n",
       "    <tr>\n",
       "      <th>3</th>\n",
       "      <td>3</td>\n",
       "      <td>-596878.714466</td>\n",
       "      <td>0.303604</td>\n",
       "      <td>47.809045</td>\n",
       "    </tr>\n",
       "    <tr>\n",
       "      <th>4</th>\n",
       "      <td>4</td>\n",
       "      <td>-0.116598</td>\n",
       "      <td>10.303696</td>\n",
       "      <td>47.808965</td>\n",
       "    </tr>\n",
       "  </tbody>\n",
       "</table>\n",
       "</div>"
      ],
      "text/plain": [
       "   Unnamed: 0            d2l        lon        lat\n",
       "0           0      -0.115950  10.303353  47.809265\n",
       "1           1      -0.116035  10.303435  47.809193\n",
       "2           2      -0.116089  10.303518  47.809121\n",
       "3           3 -596878.714466   0.303604  47.809045\n",
       "4           4      -0.116598  10.303696  47.808965"
      ]
     },
     "execution_count": 31,
     "metadata": {},
     "output_type": "execute_result"
    }
   ],
   "source": [
    "df = pd.read_csv('A7P0GaussKrueger_20191215_v1-0_SK.csv',sep=',')\n",
    "df.head()"
   ]
  },
  {
   "cell_type": "code",
   "execution_count": 32,
   "metadata": {},
   "outputs": [
    {
     "data": {
      "text/plain": [
       "409"
      ]
     },
     "execution_count": 32,
     "metadata": {},
     "output_type": "execute_result"
    }
   ],
   "source": [
    "len(df.d2l)\n",
    "\n",
    "#df['d2l'] = [df.d2l[i]*-1 for i in range(len(df))]\n",
    "    "
   ]
  },
  {
   "cell_type": "code",
   "execution_count": 49,
   "metadata": {},
   "outputs": [
    {
     "data": {
      "text/plain": [
       "array([10.30333166, 10.30341234, 10.30349319, 10.30357742, 10.30366624,\n",
       "       10.30375983, 10.30385839, 10.30396202, 10.30407008, 10.30418125,\n",
       "       10.3042943 , 10.30440837, 10.30452294, 10.30463774, 10.30475252,\n",
       "       10.30486668, 10.30498046, 10.30509423, 10.3052082 , 10.30532247,\n",
       "       10.30543708, 10.30555201, 10.30566721, 10.30578265, 10.30589827,\n",
       "       10.30601406, 10.30612983, 10.30624499, 10.30635998, 10.30647534])"
      ]
     },
     "execution_count": 49,
     "metadata": {},
     "output_type": "execute_result"
    }
   ],
   "source": [
    "dfcm.lon.values[20:50]*180/np.pi\n"
   ]
  },
  {
   "cell_type": "code",
   "execution_count": 48,
   "metadata": {},
   "outputs": [
    {
     "data": {
      "text/plain": [
       "array([10.30335299, 10.30343487, 10.3035175 ,  0.30360446, 10.30369584,\n",
       "        0.30379238,  0.30389409, 10.30400133, 10.30411092, 10.30422382])"
      ]
     },
     "execution_count": 48,
     "metadata": {},
     "output_type": "execute_result"
    }
   ],
   "source": [
    "df.lon.values[0:10]"
   ]
  },
  {
   "cell_type": "code",
   "execution_count": 33,
   "metadata": {},
   "outputs": [],
   "source": [
    "import numpy as np\n",
    "\n",
    "#for i in range(len(df)):\n",
    "    \n",
    "#    if df.d2l[i] < -10:\n",
    "        \n",
    "#        df.d2l[i] = np.NaN\n",
    "        \n",
    "df['d2l'] = [df.d2l[i] if df.d2l[i] > -10 else np.NaN for i in range(len(df)) ]\n",
    "df['d2l'] = [df.d2l[i]*-1 for i in range(len(df))]"
   ]
  },
  {
   "cell_type": "code",
   "execution_count": 34,
   "metadata": {},
   "outputs": [
    {
     "data": {
      "image/png": "[encoded data removed]",
      "text/plain": [
       "<Figure size 432x288 with 1 Axes>"
      ]
     },
     "metadata": {
      "needs_background": "light"
     },
     "output_type": "display_data"
    }
   ],
   "source": [
    "%matplotlib inline\n",
    "plt.plot(df.index,df.d2l)\n",
    "plt.ylim(-0.21,0.21)\n",
    "plt.show()"
   ]
  },
  {
   "cell_type": "code",
   "execution_count": 42,
   "metadata": {},
   "outputs": [],
   "source": [
    "# Ref Point CM correction"
   ]
  },
  {
   "cell_type": "code",
   "execution_count": 35,
   "metadata": {},
   "outputs": [
    {
     "data": {
      "text/plain": [
       "0.09318279918904282"
      ]
     },
     "execution_count": 35,
     "metadata": {},
     "output_type": "execute_result"
    }
   ],
   "source": [
    "np.nanmean(df.d2l.values)"
   ]
  },
  {
   "cell_type": "code",
   "execution_count": 36,
   "metadata": {},
   "outputs": [
    {
     "data": {
      "text/plain": [
       "0.047067555818532496"
      ]
     },
     "execution_count": 36,
     "metadata": {},
     "output_type": "execute_result"
    }
   ],
   "source": [
    "np.nanstd(df.d2l.values)"
   ]
  },
  {
   "cell_type": "code",
   "execution_count": 22,
   "metadata": {},
   "outputs": [
    {
     "data": {
      "text/plain": [
       "0.11106500728757907"
      ]
     },
     "execution_count": 22,
     "metadata": {},
     "output_type": "execute_result"
    }
   ],
   "source": [
    "np.nanmean(df.d2l.values)"
   ]
  },
  {
   "cell_type": "code",
   "execution_count": 23,
   "metadata": {},
   "outputs": [
    {
     "data": {
      "text/plain": [
       "0.014451275762238997"
      ]
     },
     "execution_count": 23,
     "metadata": {},
     "output_type": "execute_result"
    }
   ],
   "source": [
    "np.nanstd(df.d2l.values)"
   ]
  },
  {
   "cell_type": "code",
   "execution_count": null,
   "metadata": {},
   "outputs": [],
   "source": []
  }
 ],
 "metadata": {
  "kernelspec": {
   "display_name": "Python 2",
   "language": "python",
   "name": "python2"
  },
  "language_info": {
   "codemirror_mode": {
    "name": "ipython",
    "version": 2
   },
   "file_extension": ".py",
   "mimetype": "text/x-python",
   "name": "python",
   "nbconvert_exporter": "python",
   "pygments_lexer": "ipython2",
   "version": "2.7.15"
  }
 },
 "nbformat": 4,
 "nbformat_minor": 2
}
